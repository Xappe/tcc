{
 "cells": [
  {
   "cell_type": "markdown",
   "metadata": {},
   "source": [
    "# Gerador da base de dados\n",
    "A bases de dados possui combinações de todas as letras maiúsculas e minúsculas do alfabeto e o caractere vazio foi substituido pelo caractere especial underline, em grupos de 3 em 3 caracteres espaçadas com 3 espaços em branco entre elas.\n",
    "\n",
    "Ao final de cada sequência de 24 letras é adicionada uma quebra de linha.\n",
    "\n",
    "O texto está organizado em ordem alfabética crescente, focando em manter a mesma letra do meio ao longo de cada linha."
   ]
  },
  {
   "cell_type": "markdown",
   "metadata": {},
   "source": [
    "## Definindo a base de caracteres a ser combinada."
   ]
  },
  {
   "cell_type": "code",
   "execution_count": 1,
   "metadata": {},
   "outputs": [
    {
     "name": "stdout",
     "output_type": "stream",
     "text": [
      "['A', 'B', 'C', 'D', 'E', 'F', 'G', 'H', 'I', 'J', 'K', 'L', 'M', 'N', 'O', 'P', 'Q', 'R', 'S', 'T', 'U', 'V', 'W', 'X', 'Y', 'Z', 'a', 'b', 'c', 'd', 'e', 'f', 'g', 'h', 'i', 'j', 'k', 'l', 'm', 'n', 'o', 'p', 'q', 'r', 's', 't', 'u', 'v', 'w', 'x', 'y', 'z', '_']\n"
     ]
    }
   ],
   "source": [
    "uppercase_letters = ['A', 'B', 'C', 'D', 'E', 'F', 'G', 'H', 'I', 'J', 'K', 'L', 'M', 'N', 'O', 'P', 'Q', 'R', 'S', 'T', 'U', 'V', 'W', 'X', 'Y', 'Z']\n",
    "\n",
    "lowercase_letters = ['a', 'b', 'c', 'd', 'e', 'f', 'g', 'h', 'i', 'j', 'k', 'l', 'm', 'n', 'o', 'p', 'q', 'r', 's', 't', 'u', 'v', 'w', 'x', 'y', 'z']\n",
    "\n",
    "special = ['_']\n",
    "\n",
    "final_set = uppercase_letters + lowercase_letters + special\n",
    "print(final_set)"
   ]
  },
  {
   "cell_type": "markdown",
   "metadata": {},
   "source": [
    "## Definindo a expressão que separa as combinações"
   ]
  },
  {
   "cell_type": "code",
   "execution_count": 2,
   "metadata": {},
   "outputs": [],
   "source": [
    "separator = \"   \""
   ]
  },
  {
   "cell_type": "markdown",
   "metadata": {},
   "source": [
    "## Função"
   ]
  },
  {
   "cell_type": "markdown",
   "metadata": {},
   "source": [
    "\n",
    "### Direta:\n",
    "Gera combinações de 3 caracteres a partir de uma base e um separador.\n",
    "Cada linha mantém o primeiro e o segundo caracteres e altera o último. Em cada linha ainda, o último caractere muda apresentando metade do set de caracteres."
   ]
  },
  {
   "cell_type": "code",
   "execution_count": 3,
   "metadata": {},
   "outputs": [],
   "source": [
    "def make_text(characters_array, separator):\n",
    "    array_size = len(characters_array)-1\n",
    "    middle_of_array = int(last_item/2)\n",
    "    text = \"\"\n",
    "    line_break = \"\\n\"\n",
    "\n",
    "    for middle_letter in characters_array:\n",
    "        for fst_letter in characters_array:\n",
    "            for current, last_letter in enumerate(characters_array):\n",
    "                text += separator + fst_letter + middleletter + last_letter\n",
    "                if current == middle_of_array or current == array_size: text += line_break\n",
    "    \n",
    "    return(text)"
   ]
  },
  {
   "cell_type": "code",
   "execution_count": 4,
   "metadata": {},
   "outputs": [],
   "source": [
    "new_text = make_text(final_set, separator)\n",
    "with open(\"algo_text.txt\",\"w\") as txtfile:\n",
    "    txtfile.write(new_text)"
   ]
  },
  {
   "cell_type": "markdown",
   "metadata": {},
   "source": [
    "### Procedural:\n"
   ]
  },
  {
   "cell_type": "code",
   "execution_count": 5,
   "metadata": {},
   "outputs": [],
   "source": [
    "def make_text_procedural(size = 3, previous_text=\"\"):\n",
    "    text = \"\"\n",
    "    if size == 0:\n",
    "        last_item = len(final_set)-1\n",
    "        middle_item = int((last_item-1)/2)\n",
    "        for i, last_letter in enumerate(final_set):\n",
    "            text += separator + previous_text + last_letter\n",
    "            if i == middle_item or i == last_item: text += \"\\n\"\n",
    "        with open(\"proceduralText.txt\", 'a') as txtfile:\n",
    "            txtfile.write(text)\n",
    "        return\n",
    "    elif size > 0:\n",
    "        for curr_letter in final_set:\n",
    "            current_combination = previous_text + curr_letter\n",
    "            make_text_procedural(size-1, current_combination)\n",
    "        return\n"
   ]
  },
  {
   "cell_type": "code",
   "execution_count": 6,
   "metadata": {},
   "outputs": [],
   "source": [
    "with open(\"proceduralText.txt\", 'w') as txtfile:\n",
    "            txtfile.write(\"\")\n",
    "make_text_procedural(2)\n"
   ]
  }
 ],
 "metadata": {
  "kernelspec": {
   "display_name": "Python 3 (ipykernel)",
   "language": "python",
   "name": "python3"
  },
  "language_info": {
   "codemirror_mode": {
    "name": "ipython",
    "version": 3
   },
   "file_extension": ".py",
   "mimetype": "text/x-python",
   "name": "python",
   "nbconvert_exporter": "python",
   "pygments_lexer": "ipython3",
   "version": "3.11.7"
  }
 },
 "nbformat": 4,
 "nbformat_minor": 4
}
