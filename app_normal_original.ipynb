{
 "cells": [
  {
   "cell_type": "markdown",
   "metadata": {},
   "source": [
    "# Inicio"
   ]
  },
  {
   "cell_type": "code",
   "execution_count": null,
   "metadata": {},
   "outputs": [],
   "source": [
    "import tensorflow as tf\n",
    "print(tf.config.list_physical_devices('GPU'))"
   ]
  },
  {
   "cell_type": "code",
   "execution_count": null,
   "metadata": {},
   "outputs": [],
   "source": [
    "import tensorflow as tf\n",
    "from tensorflow.keras.models import Sequential\n",
    "from tensorflow.keras.layers import Conv2D, MaxPooling2D, Flatten, Dense, Dropout, GlobalAveragePooling2D\n",
    "from keras.callbacks import ModelCheckpoint, EarlyStopping\n",
    "from keras.src.legacy.preprocessing.image import ImageDataGenerator\n",
    "import os\n",
    "import matplotlib.pyplot as plt\n",
    "import pandas as pd\n",
    "from sklearn.metrics import classification_report, accuracy_score"
   ]
  },
  {
   "cell_type": "code",
   "execution_count": null,
   "metadata": {},
   "outputs": [],
   "source": [
    "# Mapear arquivos ocultos (.ipny)\n",
    "def filter_hidden_folders(folder_list):\n",
    "    return [folder for folder in folder_list if not folder.startswith('.')]"
   ]
  },
  {
   "cell_type": "code",
   "execution_count": null,
   "metadata": {},
   "outputs": [],
   "source": [
    "# Caminho para os dados do dataset e o reescalador de imagens\n",
    "\n",
    "xray_directory = 'font_results/normal'\n",
    "\n",
    "xray_classes = filter_hidden_folders(os.listdir(xray_directory))  # Filtra pastas ocultas\n",
    "print(os.listdir(xray_directory))\n",
    "print(len(os.listdir(xray_directory)))\n",
    "print(os.listdir(xray_directory))"
   ]
  },
  {
   "cell_type": "code",
   "execution_count": null,
   "metadata": {},
   "outputs": [],
   "source": [
    "from tensorflow.keras import layers, models\n",
    "\n",
    "# Definindo o modelo\n",
    "model = Sequential()\n",
    "\n",
    "# Definir parâmetros\n",
    "input_shape = (180, 100, 1)  # Imagem 180x100, 1 canal (grayscale)\n",
    "num_classes = 53  # 26 letras maiúsculas, 26 minúsculas, + 1 \"null\"\n",
    "\n",
    "# Primeira camada de convolução e pooling\n",
    "model.add(layers.Conv2D(32, (3, 3), activation='relu', input_shape=input_shape))\n",
    "model.add(layers.MaxPooling2D((2, 2)))\n",
    "\n",
    "# Segunda camada de convolução e pooling\n",
    "model.add(layers.Conv2D(64, (3, 3), activation='relu'))\n",
    "model.add(layers.MaxPooling2D((2, 2)))\n",
    "\n",
    "# Terceira camada de convolução e pooling\n",
    "model.add(layers.Conv2D(128, (3, 3), activation='relu'))\n",
    "model.add(layers.MaxPooling2D((2, 2)))\n",
    "\n",
    "# Quarta camada de convolução e pooling\n",
    "model.add(layers.Conv2D(128, (3, 3), activation='relu'))\n",
    "model.add(layers.MaxPooling2D((2, 2)))\n",
    "\n",
    "# Camada de flatten\n",
    "model.add(layers.Flatten())\n",
    "\n",
    "# Camadas densas (fully connected)\n",
    "model.add(layers.Dense(512, activation='relu'))\n",
    "model.add(layers.Dropout(0.5))  # Evitar overfitting\n",
    "\n",
    "# Camada de saída\n",
    "model.add(layers.Dense(num_classes, activation='softmax'))\n",
    "\n",
    "# Compilar o modelo\n",
    "model.compile(optimizer='adam', \n",
    "              loss='categorical_crossentropy', \n",
    "              metrics=['accuracy'])\n",
    "\n",
    "# Compilar o modelo\n",
    "model.compile(optimizer='adam', \n",
    "              loss='categorical_crossentropy', \n",
    "              metrics=['accuracy'])\n",
    "\n",
    "# Resumo do modelo\n",
    "model.summary()\n"
   ]
  },
  {
   "cell_type": "code",
   "execution_count": null,
   "metadata": {},
   "outputs": [],
   "source": [
    "# Compilando o modelo\n",
    "model.compile(optimizer='adam', loss='categorical_crossentropy', metrics=['accuracy'])\n",
    "\n",
    "# Resumo do modelo\n",
    "model.summary()"
   ]
  },
  {
   "cell_type": "code",
   "execution_count": null,
   "metadata": {},
   "outputs": [],
   "source": [
    "# Salvar o arquivo de treinamento em diferentes epocas\n",
    "\n",
    "# Nome/caminho do arquivo que sera salvo\n",
    "filepath = \"weights_normal_original.keras\" \n",
    "#filepath = \"weights_normal_original.keras\" \n",
    "\n",
    "# Define os parametros para atualizar o arquivo final\n",
    "# ModelCheckpoint(nome_do_arquivo, monitor = 'parametro a ser alalisado', verbose = 1 (imprimir no console quando arquivo for salvo), save_best_only = True, mode = 'min' (objetivo minimizar perda))\n",
    "checkpoint = ModelCheckpoint(filepath, monitor = 'loss', verbose = 1, save_best_only = True, mode = 'min')\n",
    "\n",
    "# Cria uma lista que contém o ModelCheckpoint configurado usado durante o treinamento\n",
    "callbacks_list = [checkpoint]"
   ]
  },
  {
   "cell_type": "code",
   "execution_count": null,
   "metadata": {},
   "outputs": [],
   "source": [
    "# Gerenciador de imagem para pre processamento\n",
    "# Aumentar a base de dados \n",
    "\n",
    "train_datagen = ImageDataGenerator(\n",
    "# Transforma os valores de pixel de (0-255 ->0.0 - 1.0 )  \n",
    "    rescale=1. / 255,\n",
    "# Aplica zoom aleatório às imagens dentro do intervalo especificado (0.2 -> 20%)\n",
    "    zoom_range=0.2,\n",
    "# Realiza uma inversão horizontal aleatória das imagens\n",
    "    horizontal_flip=True,\n",
    "#Este parâmetro é usado para dividir automaticamente os dados em conjuntos de treinamento e validação \n",
    "    validation_split=0.3\n",
    "    )\n",
    "\n"
   ]
  },
  {
   "cell_type": "code",
   "execution_count": null,
   "metadata": {},
   "outputs": [],
   "source": [
    "# Cria critério de parada precoce\n",
    "early_stopping = EarlyStopping(monitor='loss', patience=3, verbose=1)"
   ]
  },
  {
   "cell_type": "code",
   "execution_count": null,
   "metadata": {
    "scrolled": true
   },
   "outputs": [],
   "source": [
    "\n",
    "BATCH_SIZE = 50\n",
    "TARGET_SIZE=(100, 180)\n",
    "CMODE='grayscale'\n",
    "CLASS_MODE='categorical'\n",
    "# Imagens para treinamento\n",
    "train_generator = train_datagen.flow_from_directory(\n",
    "    xray_directory,\n",
    "    target_size=TARGET_SIZE,\n",
    "    batch_size=BATCH_SIZE,\n",
    "    color_mode=CMODE, \n",
    "    class_mode=CLASS_MODE,\n",
    "    shuffle=True,\n",
    "    subset='training'\n",
    ")\n",
    "\n",
    "# Obtenha um lote de imagens do generator\n",
    "x_batch, y_batch = next(train_generator)\n",
    "\n",
    "# Visualize algumas imagens geradas com suas respectivas transformações\n",
    "for i in range(0, 5):  # Mostra as primeiras 5 imagens\n",
    "    image = x_batch[i]\n",
    "    plt.imshow(image, cmap = \"gray\")\n",
    "    plt.show()\n",
    "\n",
    "# Imagens para validação\n",
    "validation_generator = train_datagen.flow_from_directory(\n",
    "        xray_directory,\n",
    "        target_size=TARGET_SIZE,\n",
    "        batch_size=BATCH_SIZE,\n",
    "        color_mode=CMODE,\n",
    "        class_mode=CLASS_MODE,\n",
    "        shuffle=True,\n",
    "        subset = 'validation'\n",
    "        )\n",
    "print(train_generator.class_indices)\n",
    "\n"
   ]
  },
  {
   "cell_type": "code",
   "execution_count": null,
   "metadata": {},
   "outputs": [],
   "source": [
    "print(\"Ordem das classes:\", train_generator.class_indices)\n"
   ]
  },
  {
   "cell_type": "code",
   "execution_count": null,
   "metadata": {},
   "outputs": [],
   "source": [
    "# Testar o gerador de dados\n",
    "for data_batch, labels_batch in train_generator:\n",
    "    print(\"Imagens: \", data_batch.shape)\n",
    "    print(\"Labels: \", labels_batch.shape)\n",
    "    break  # Apenas testar um batch\n"
   ]
  },
  {
   "cell_type": "markdown",
   "metadata": {},
   "source": [
    "# treinamento do modelo"
   ]
  },
  {
   "cell_type": "code",
   "execution_count": null,
   "metadata": {},
   "outputs": [],
   "source": [
    "history = model.fit(train_generator, epochs = 25, validation_data=validation_generator, callbacks=callbacks_list)"
   ]
  },
  {
   "cell_type": "code",
   "execution_count": null,
   "metadata": {},
   "outputs": [],
   "source": [
    "aux = history\n",
    "history = history.history.keys() #paramestros de avaliação accuracy, loss"
   ]
  },
  {
   "cell_type": "code",
   "execution_count": null,
   "metadata": {},
   "outputs": [],
   "source": [
    "hist_df = pd.DataFrame(aux.history)\n",
    "# Salvar o DataFrame em um arquivo CSV\n",
    "hist_df.to_csv('training_history_normal_original.csv', index=False)\n",
    "print(hist_df)"
   ]
  },
  {
   "cell_type": "code",
   "execution_count": null,
   "metadata": {},
   "outputs": [],
   "source": [
    "\n",
    "# Exemplo de grafico para ver taxa de acerto por taxa de erro \n",
    "plt.plot(aux.history['accuracy'])\n",
    "plt.plot(aux.history['loss'])\n",
    "plt.title('Erro e taxa de acerto durante o treinamento')\n",
    "plt.xlabel('Época')\n",
    "plt.ylabel('Taxa de acerto e erro')\n",
    "plt.legend(['Taxa de acerto', 'Erro']);"
   ]
  },
  {
   "cell_type": "markdown",
   "metadata": {},
   "source": [
    "# Carregar historic de  treinado"
   ]
  },
  {
   "cell_type": "code",
   "execution_count": null,
   "metadata": {},
   "outputs": [],
   "source": [
    "# Carregar os dados do CSV\n",
    "loaded_history_df = pd.read_csv('training_history.csv')\n",
    "# Exibir os dados carregados (opcional)\n",
    "print(loaded_history_df)"
   ]
  },
  {
   "cell_type": "code",
   "execution_count": null,
   "metadata": {},
   "outputs": [],
   "source": [
    "# Plotar a perda de treinamento e validação\n",
    "plt.plot(loaded_history_df['loss'], label='Loss (train)')\n",
    "plt.plot(loaded_history_df['val_loss'], label='Loss (validation)')\n",
    "plt.title('Loss durante o treinamento')\n",
    "plt.xlabel('Épocas')\n",
    "plt.ylabel('Perda')\n",
    "plt.legend()\n",
    "plt.show()\n",
    "\n",
    "# Plotar a precisão de treinamento e validação\n",
    "plt.plot(loaded_history_df['accuracy'], label='Accuracy (train)')\n",
    "plt.plot(loaded_history_df['val_accuracy'], label='Accuracy (validation)')\n",
    "plt.title('Precisão durante o treinamento')\n",
    "plt.xlabel('Épocas')\n",
    "plt.ylabel('Precisão')\n",
    "plt.legend()\n",
    "plt.show()"
   ]
  },
  {
   "cell_type": "code",
   "execution_count": null,
   "metadata": {},
   "outputs": [],
   "source": [
    "#Comparação de LOSS e ACCURACY entre as epocas de treino da rede\n",
    "\n",
    "# Plot Loss\n",
    "plt.figure(figsize=(12, 5))\n",
    "\n",
    "plt.subplot(1, 2, 1)\n",
    "plt.plot(loaded_history_df['loss'], label='train loss')\n",
    "plt.plot(loaded_history_df['val_loss'], label='val loss')\n",
    "plt.title('Loss')\n",
    "plt.xlabel('Epochs')\n",
    "plt.ylabel('Loss')\n",
    "plt.legend()\n",
    "\n",
    "# Plot Accuracy\n",
    "plt.subplot(1, 2, 2)\n",
    "plt.plot(loaded_history_df['accuracy'], label='train accuracy')\n",
    "plt.plot(loaded_history_df['val_accuracy'], label='val accuracy')\n",
    "plt.title('Accuracy')\n",
    "plt.xlabel('Epochs')\n",
    "plt.ylabel('Accuracy')\n",
    "plt.legend()\n",
    "\n",
    "plt.show()\n"
   ]
  },
  {
   "cell_type": "code",
   "execution_count": null,
   "metadata": {},
   "outputs": [],
   "source": [
    "#Comparação de Loss e Accuracy de redes distintas\n",
    "\n",
    "import numpy as np\n",
    "\n",
    "def plot_comparison(results, metric='accuracy'):\n",
    "    models = list(results.keys())\n",
    "    final_accuracy = [results[model][metric][-1] for model in models]\n",
    "    \n",
    "    plt.figure(figsize=(10, 5))\n",
    "    plt.bar(models, final_accuracy)\n",
    "    plt.title(f'Comparação de {metric} entre diferentes redes')\n",
    "    plt.ylabel(metric.capitalize())\n",
    "    plt.xlabel('Modelos')\n",
    "    plt.show()\n"
   ]
  },
  {
   "cell_type": "code",
   "execution_count": null,
   "metadata": {},
   "outputs": [],
   "source": [
    "#Grafico de curvas para comparação entre redes\n",
    "def plot_comparison_curves(results, metric='accuracy'):\n",
    "    plt.figure(figsize=(10, 5))\n",
    "    \n",
    "    for model, history in results.items():\n",
    "        plt.plot(history[metric], label=f'{model} - train')\n",
    "        plt.plot(history['val_' + metric], '--', label=f'{model} - val')\n",
    "    \n",
    "    plt.title(f'Comparação de {metric.capitalize()} entre Redes')\n",
    "    plt.xlabel('Épocas')\n",
    "    plt.ylabel(metric.capitalize())\n",
    "    plt.legend()\n",
    "    plt.show()\n"
   ]
  },
  {
   "cell_type": "code",
   "execution_count": null,
   "metadata": {},
   "outputs": [],
   "source": [
    "#Matriz Confusão\n",
    "from sklearn.metrics import confusion_matrix\n",
    "import seaborn as sns\n",
    "\n",
    "def plot_confusion_matrix(y_true, y_pred, model_name):\n",
    "    cm = confusion_matrix(y_true, y_pred)\n",
    "    plt.figure(figsize=(10, 7))\n",
    "    sns.heatmap(cm, annot=True, fmt='d', cmap='Blues')\n",
    "    plt.title(f'Matriz de Confusão - {model_name}')\n",
    "    plt.ylabel('Verdadeiro')\n",
    "    plt.xlabel('Predito')\n",
    "    plt.show()\n",
    "\n"
   ]
  },
  {
   "cell_type": "code",
   "execution_count": null,
   "metadata": {},
   "outputs": [],
   "source": [
    "#Boxplot\n",
    "def plot_boxplot(results, metric='accuracy'):\n",
    "    data = [history[metric] for history in results.values()]\n",
    "    labels = results.keys()\n",
    "\n",
    "    plt.figure(figsize=(10, 6))\n",
    "    plt.boxplot(data, labels=labels)\n",
    "    plt.title(f'Boxplot de {metric.capitalize()} entre Redes')\n",
    "    plt.ylabel(metric.capitalize())\n",
    "    plt.show()\n"
   ]
  },
  {
   "cell_type": "code",
   "execution_count": null,
   "metadata": {},
   "outputs": [],
   "source": [
    "# defini caminho para pasta de teste\n",
    "test_directory = 'dataset/test'\n",
    "# lista contendo os nomes dos arquivos e diretórios presentes no caminho fornecido\n",
    "os.listdir(test_directory)"
   ]
  },
  {
   "cell_type": "code",
   "execution_count": null,
   "metadata": {},
   "outputs": [],
   "source": [
    "# Mudar a escala das imagens\n",
    "test_gen = ImageDataGenerator(rescale=1./255)\n",
    "\n",
    "test_generator = test_gen.flow_from_directory(batch_size = 13, directory = test_directory,\n",
    "                                              shuffle = True, target_size = (256, 256),\n",
    "                                              class_mode = 'categorical')\n",
    "\n",
    "evaluate = model.evaluate(test_generator)\n",
    "\n",
    "len(os.listdir(test_directory))"
   ]
  },
  {
   "cell_type": "code",
   "execution_count": null,
   "metadata": {},
   "outputs": [],
   "source": [
    "# aplica a rede treinada em um conjunto de teste de imagens e armazena os resultados\n",
    "prediction = []\n",
    "original = []\n",
    "image = []\n",
    "\n",
    "# percorre as subpastas no diretório test_directory, assumindo que cada subpasta contém imagens de uma determinada classe\n",
    "for i in range(len(os.listdir(test_directory))):\n",
    "  # percorre os arquivos dentro de cada subpasta e processa cada imagem\n",
    "  for item in os.listdir(os.path.join(test_directory, str(i))):\n",
    "    \n",
    "    #Etapas de processamento de img\n",
    "\n",
    "    img = cv2.imread(os.path.join(test_directory, str(i), item))\n",
    "    img = cv2.resize(img, (256, 256))\n",
    "    image.append(img)\n",
    "    img = img / 255\n",
    "    img = img.reshape(-1, 256, 256, 3)\n",
    "\n",
    "    #rede neural aplicada\n",
    "    predict = model.predict(img)\n",
    "    predict = np.argmax(predict)\n",
    "    prediction.append(predict)\n",
    "    original.append(i)"
   ]
  },
  {
   "cell_type": "code",
   "execution_count": null,
   "metadata": {},
   "outputs": [],
   "source": [
    "accuracy_score(original, prediction)"
   ]
  },
  {
   "cell_type": "code",
   "execution_count": null,
   "metadata": {},
   "outputs": [],
   "source": [
    "fig, axes = plt.subplots(5, 5, figsize=(12,12))\n",
    "axes = axes.ravel()\n",
    "for i in np.arange(0, 25):\n",
    "  axes[i].imshow(image[i])\n",
    "  axes[i].set_title('Previsão={}\\nTrue={}'.format(str(labels_names[prediction[i]]), str(labels_names[original[i]])))\n",
    "  axes[i].axis('off')\n",
    "plt.subplots_adjust(wspace = 1.2)"
   ]
  },
  {
   "cell_type": "code",
   "execution_count": null,
   "metadata": {},
   "outputs": [],
   "source": [
    "labels_names = {0: 'SoldasCorretas', 1: 'SoldasErradas'}"
   ]
  },
  {
   "cell_type": "markdown",
   "metadata": {},
   "source": [
    "# Testando se funcionou"
   ]
  },
  {
   "cell_type": "code",
   "execution_count": 49,
   "metadata": {},
   "outputs": [
    {
     "name": "stdout",
     "output_type": "stream",
     "text": [
      "(100, 180)\n"
     ]
    },
    {
     "data": {
      "image/png": "[encoded data removed]",
      "text/plain": [
       "<Figure size 640x480 with 1 Axes>"
      ]
     },
     "metadata": {},
     "output_type": "display_data"
    },
    {
     "name": "stdout",
     "output_type": "stream",
     "text": [
      "\u001b[1m1/1\u001b[0m \u001b[32m━━━━━━━━━━━━━━━━━━━━\u001b[0m\u001b[37m\u001b[0m \u001b[1m0s\u001b[0m 116ms/step\n",
      "Predição: [[0.0000000e+00 7.4876159e-23 9.8897990e-12 1.2116896e-21 4.2945408e-33\n",
      "  7.0625353e-03 3.1788636e-21 6.2376909e-16 4.0879714e-30 1.1789421e-23\n",
      "  1.4737642e-22 1.3672031e-19 6.6633753e-18 0.0000000e+00 7.3428040e-43\n",
      "  2.0062250e-40 1.7499058e-28 1.1840016e-26 2.9591411e-21 6.9138451e-10\n",
      "  2.2392422e-26 2.5027191e-42 1.4937842e-42 0.0000000e+00 5.6350104e-29\n",
      "  7.3227485e-27 5.1601751e-15 4.3365995e-27 1.3846709e-19 8.6312166e-09\n",
      "  3.0062192e-23 5.9004247e-12 8.5110667e-15 5.4447182e-32 5.5210766e-26\n",
      "  9.9293572e-01 1.7893067e-06 6.7273791e-11 1.2802425e-15 1.9618179e-44\n",
      "  1.0930635e-29 2.7515992e-23 4.0569581e-25 1.2009034e-21 3.9773607e-13\n",
      "  2.2150714e-11 5.8041820e-13 5.2727899e-19 4.1457973e-14 3.8034531e-22\n",
      "  1.4809791e-13 1.2023900e-26 3.6362434e-11]]\n",
      "A classe prevista é - 35: i\n"
     ]
    }
   ],
   "source": [
    "from keras.models import load_model\n",
    "import cv2\n",
    "import numpy as np\n",
    "from PIL import Image\n",
    "import matplotlib.pyplot as plt\n",
    "\n",
    "# Carregar o modelo previamente salvo\n",
    "model_load = load_model('weights_normal_original.keras')\n",
    "\n",
    "# Carregar a imagem e convertê-la para um array numpy em escala de cinza\n",
    "#image = np.array(Image.open(\"/home/picg/TCC/GeradorBase/font_results/normal/a/a-mas-GrandHotel-Regular.png\").convert('L'))\n",
    "image = np.array(Image.open(\"/home/picg/TCC/GeradorBase/font_results/normal/c/c-acq-Popsies.png\"))\n",
    "# Redimensionar a imagem para o tamanho esperado pela CNN (supondo 180x100)\n",
    "temp_resized = cv2.resize(image, (180, 100))\n",
    "\n",
    "print(temp_resized.shape)\n",
    "plt.imshow(image, cmap = \"gray\")\n",
    "plt.show()\n",
    "# Adicionar uma dimensão para corresponder ao formato de entrada esperado pelo modelo\n",
    "final = temp_resized.reshape(1, 180, 100, 1)  # '1' aqui é o batch size\n",
    "\n",
    "# Normalizar os valores dos pixels para [0, 1]\n",
    "normalized = final / 255.0\n",
    "\n",
    "# Fazer a predição com o modelo carregado\n",
    "prediction = model_load.predict(normalized)\n",
    "\n",
    "# Exibir o resultado da predição\n",
    "print(\"Predição:\", prediction)\n",
    "print(f\"A classe prevista é - {predicted_class}: {labels_names[predicted_class]}\")\n"
   ]
  },
  {
   "cell_type": "code",
   "execution_count": 50,
   "metadata": {},
   "outputs": [
    {
     "name": "stdout",
     "output_type": "stream",
     "text": [
      "(1, 180, 100, 1)\n",
      "(None, 180, 100, 1)\n"
     ]
    }
   ],
   "source": [
    "print(normalized.shape)\n",
    "print(model_load.input_shape)"
   ]
  },
  {
   "cell_type": "code",
   "execution_count": 51,
   "metadata": {},
   "outputs": [
    {
     "data": {
      "text/plain": [
       "<matplotlib.image.AxesImage at 0x726ad8bf71d0>"
      ]
     },
     "execution_count": 51,
     "metadata": {},
     "output_type": "execute_result"
    },
    {
     "data": {
      "image/png": "[encoded data removed]",
      "text/plain": [
       "<Figure size 640x480 with 1 Axes>"
      ]
     },
     "metadata": {},
     "output_type": "display_data"
    }
   ],
   "source": [
    "#image = np.array(Image.open(\"/home/picg/TCC/GeradorBase/font_results/normal/a/a-mam-GrandHotel-Regular.png\"))\n",
    "plt.imshow(image, cmap=\"gray\")"
   ]
  },
  {
   "cell_type": "code",
   "execution_count": 53,
   "metadata": {},
   "outputs": [
    {
     "name": "stdout",
     "output_type": "stream",
     "text": [
      "A classe prevista é - 35: i\n"
     ]
    }
   ],
   "source": [
    "import numpy as np\n",
    "\n",
    "# Achar a classe com maior probabilidade\n",
    "predicted_class = np.argmax(prediction).item()\n",
    "'''\n",
    "{'.ipynb_checkpoints': 0, 'A': 1, 'B': 2, 'C': 3, 'D': 4, 'E': 5, 'F': 6, 'G': 7, 'H': 8, 'I': 9, 'J': 10, 'K': 11, 'L': 12, 'M': 13, 'N': 14, 'O': 15, 'P': 16, 'Q': 17, 'R': 18, 'S': 19, 'T': 20, 'U': 21, 'V': 22, 'W': 23, 'X': 24, 'Y': 25, 'Z': 26, 'a': 27, 'b': 28, 'c': 29, 'd': 30, 'e': 31, 'f': 32, 'g': 33, 'h': 34, 'i': 35, 'j': 36, 'k': 37, 'l': 38, 'm': 39, 'n': 40, 'o': 41, 'p': 42, 'q': 43, 'r': 44, 's': 45, 't': 46, 'u': 47, 'v': 48, 'w': 49, 'x': 50, 'y': 51, 'z': 52}\n",
    "'''\n",
    "\n",
    "# Definir labels (saidas) \n",
    "labels_names = {\n",
    "    0: \"null\",\n",
    "    1: \"A\",\n",
    "    2: \"B\",\n",
    "    3: \"C\",\n",
    "    4: \"D\",\n",
    "    5: \"E\",\n",
    "    6: \"F\",\n",
    "    7: \"G\",\n",
    "    8: \"H\",\n",
    "    9: \"I\",\n",
    "    10: \"J\",\n",
    "    11: \"K\",\n",
    "    12: \"L\",\n",
    "    13: \"M\",\n",
    "    14: \"N\",\n",
    "    15: \"O\",\n",
    "    16: \"P\",\n",
    "    17: \"Q\",\n",
    "    18: \"R\",\n",
    "    19: \"S\",\n",
    "    20: \"T\",\n",
    "    21: \"U\",\n",
    "    22: \"V\",\n",
    "    23: \"W\",\n",
    "    24: \"X\",\n",
    "    25: \"Y\",\n",
    "    26: \"Z\",\n",
    "    27: \"a\",\n",
    "    28: \"b\",\n",
    "    29: \"c\",\n",
    "    30: \"d\",\n",
    "    31: \"e\",\n",
    "    32: \"f\",\n",
    "    33: \"g\",\n",
    "    34: \"h\",\n",
    "    35: \"i\",\n",
    "    36: \"j\",\n",
    "    37: \"k\",\n",
    "    38: \"l\",\n",
    "    39: \"m\",\n",
    "    40: \"n\",\n",
    "    41: \"o\",\n",
    "    42: \"p\",\n",
    "    43: \"q\",\n",
    "    44: \"r\",\n",
    "    45: \"s\",\n",
    "    46: \"t\",\n",
    "    47: \"u\",\n",
    "    48: \"v\",\n",
    "    49: \"w\",\n",
    "    50: \"x\",\n",
    "    51: \"y\",\n",
    "    52: \"z\"\n",
    "}\n",
    "\n",
    "\n",
    "\n",
    "print(f\"A classe prevista é - {predicted_class}: {labels_names[predicted_class]}\")\n"
   ]
  },
  {
   "cell_type": "code",
   "execution_count": 24,
   "metadata": {},
   "outputs": [
    {
     "data": {
      "text/html": [
       "<pre style=\"white-space:pre;overflow-x:auto;line-height:normal;font-family:Menlo,'DejaVu Sans Mono',consolas,'Courier New',monospace\"><span style=\"font-weight: bold\">Model: \"sequential\"</span>\n",
       "</pre>\n"
      ],
      "text/plain": [
       "\u001b[1mModel: \"sequential\"\u001b[0m\n"
      ]
     },
     "metadata": {},
     "output_type": "display_data"
    },
    {
     "data": {
      "text/html": [
       "<pre style=\"white-space:pre;overflow-x:auto;line-height:normal;font-family:Menlo,'DejaVu Sans Mono',consolas,'Courier New',monospace\">┏━━━━━━━━━━━━━━━━━━━━━━━━━━━━━━━━━┳━━━━━━━━━━━━━━━━━━━━━━━━┳━━━━━━━━━━━━━━━┓\n",
       "┃<span style=\"font-weight: bold\"> Layer (type)                    </span>┃<span style=\"font-weight: bold\"> Output Shape           </span>┃<span style=\"font-weight: bold\">       Param # </span>┃\n",
       "┡━━━━━━━━━━━━━━━━━━━━━━━━━━━━━━━━━╇━━━━━━━━━━━━━━━━━━━━━━━━╇━━━━━━━━━━━━━━━┩\n",
       "│ conv2d (<span style=\"color: #0087ff; text-decoration-color: #0087ff\">Conv2D</span>)                 │ (<span style=\"color: #00d7ff; text-decoration-color: #00d7ff\">None</span>, <span style=\"color: #00af00; text-decoration-color: #00af00\">178</span>, <span style=\"color: #00af00; text-decoration-color: #00af00\">98</span>, <span style=\"color: #00af00; text-decoration-color: #00af00\">32</span>)    │           <span style=\"color: #00af00; text-decoration-color: #00af00\">320</span> │\n",
       "├─────────────────────────────────┼────────────────────────┼───────────────┤\n",
       "│ max_pooling2d (<span style=\"color: #0087ff; text-decoration-color: #0087ff\">MaxPooling2D</span>)    │ (<span style=\"color: #00d7ff; text-decoration-color: #00d7ff\">None</span>, <span style=\"color: #00af00; text-decoration-color: #00af00\">89</span>, <span style=\"color: #00af00; text-decoration-color: #00af00\">49</span>, <span style=\"color: #00af00; text-decoration-color: #00af00\">32</span>)     │             <span style=\"color: #00af00; text-decoration-color: #00af00\">0</span> │\n",
       "├─────────────────────────────────┼────────────────────────┼───────────────┤\n",
       "│ conv2d_1 (<span style=\"color: #0087ff; text-decoration-color: #0087ff\">Conv2D</span>)               │ (<span style=\"color: #00d7ff; text-decoration-color: #00d7ff\">None</span>, <span style=\"color: #00af00; text-decoration-color: #00af00\">87</span>, <span style=\"color: #00af00; text-decoration-color: #00af00\">47</span>, <span style=\"color: #00af00; text-decoration-color: #00af00\">64</span>)     │        <span style=\"color: #00af00; text-decoration-color: #00af00\">18,496</span> │\n",
       "├─────────────────────────────────┼────────────────────────┼───────────────┤\n",
       "│ max_pooling2d_1 (<span style=\"color: #0087ff; text-decoration-color: #0087ff\">MaxPooling2D</span>)  │ (<span style=\"color: #00d7ff; text-decoration-color: #00d7ff\">None</span>, <span style=\"color: #00af00; text-decoration-color: #00af00\">43</span>, <span style=\"color: #00af00; text-decoration-color: #00af00\">23</span>, <span style=\"color: #00af00; text-decoration-color: #00af00\">64</span>)     │             <span style=\"color: #00af00; text-decoration-color: #00af00\">0</span> │\n",
       "├─────────────────────────────────┼────────────────────────┼───────────────┤\n",
       "│ conv2d_2 (<span style=\"color: #0087ff; text-decoration-color: #0087ff\">Conv2D</span>)               │ (<span style=\"color: #00d7ff; text-decoration-color: #00d7ff\">None</span>, <span style=\"color: #00af00; text-decoration-color: #00af00\">41</span>, <span style=\"color: #00af00; text-decoration-color: #00af00\">21</span>, <span style=\"color: #00af00; text-decoration-color: #00af00\">128</span>)    │        <span style=\"color: #00af00; text-decoration-color: #00af00\">73,856</span> │\n",
       "├─────────────────────────────────┼────────────────────────┼───────────────┤\n",
       "│ max_pooling2d_2 (<span style=\"color: #0087ff; text-decoration-color: #0087ff\">MaxPooling2D</span>)  │ (<span style=\"color: #00d7ff; text-decoration-color: #00d7ff\">None</span>, <span style=\"color: #00af00; text-decoration-color: #00af00\">20</span>, <span style=\"color: #00af00; text-decoration-color: #00af00\">10</span>, <span style=\"color: #00af00; text-decoration-color: #00af00\">128</span>)    │             <span style=\"color: #00af00; text-decoration-color: #00af00\">0</span> │\n",
       "├─────────────────────────────────┼────────────────────────┼───────────────┤\n",
       "│ conv2d_3 (<span style=\"color: #0087ff; text-decoration-color: #0087ff\">Conv2D</span>)               │ (<span style=\"color: #00d7ff; text-decoration-color: #00d7ff\">None</span>, <span style=\"color: #00af00; text-decoration-color: #00af00\">18</span>, <span style=\"color: #00af00; text-decoration-color: #00af00\">8</span>, <span style=\"color: #00af00; text-decoration-color: #00af00\">128</span>)     │       <span style=\"color: #00af00; text-decoration-color: #00af00\">147,584</span> │\n",
       "├─────────────────────────────────┼────────────────────────┼───────────────┤\n",
       "│ max_pooling2d_3 (<span style=\"color: #0087ff; text-decoration-color: #0087ff\">MaxPooling2D</span>)  │ (<span style=\"color: #00d7ff; text-decoration-color: #00d7ff\">None</span>, <span style=\"color: #00af00; text-decoration-color: #00af00\">9</span>, <span style=\"color: #00af00; text-decoration-color: #00af00\">4</span>, <span style=\"color: #00af00; text-decoration-color: #00af00\">128</span>)      │             <span style=\"color: #00af00; text-decoration-color: #00af00\">0</span> │\n",
       "├─────────────────────────────────┼────────────────────────┼───────────────┤\n",
       "│ flatten (<span style=\"color: #0087ff; text-decoration-color: #0087ff\">Flatten</span>)               │ (<span style=\"color: #00d7ff; text-decoration-color: #00d7ff\">None</span>, <span style=\"color: #00af00; text-decoration-color: #00af00\">4608</span>)           │             <span style=\"color: #00af00; text-decoration-color: #00af00\">0</span> │\n",
       "├─────────────────────────────────┼────────────────────────┼───────────────┤\n",
       "│ dense (<span style=\"color: #0087ff; text-decoration-color: #0087ff\">Dense</span>)                   │ (<span style=\"color: #00d7ff; text-decoration-color: #00d7ff\">None</span>, <span style=\"color: #00af00; text-decoration-color: #00af00\">512</span>)            │     <span style=\"color: #00af00; text-decoration-color: #00af00\">2,359,808</span> │\n",
       "├─────────────────────────────────┼────────────────────────┼───────────────┤\n",
       "│ dropout (<span style=\"color: #0087ff; text-decoration-color: #0087ff\">Dropout</span>)               │ (<span style=\"color: #00d7ff; text-decoration-color: #00d7ff\">None</span>, <span style=\"color: #00af00; text-decoration-color: #00af00\">512</span>)            │             <span style=\"color: #00af00; text-decoration-color: #00af00\">0</span> │\n",
       "├─────────────────────────────────┼────────────────────────┼───────────────┤\n",
       "│ dense_1 (<span style=\"color: #0087ff; text-decoration-color: #0087ff\">Dense</span>)                 │ (<span style=\"color: #00d7ff; text-decoration-color: #00d7ff\">None</span>, <span style=\"color: #00af00; text-decoration-color: #00af00\">53</span>)             │        <span style=\"color: #00af00; text-decoration-color: #00af00\">27,189</span> │\n",
       "└─────────────────────────────────┴────────────────────────┴───────────────┘\n",
       "</pre>\n"
      ],
      "text/plain": [
       "┏━━━━━━━━━━━━━━━━━━━━━━━━━━━━━━━━━┳━━━━━━━━━━━━━━━━━━━━━━━━┳━━━━━━━━━━━━━━━┓\n",
       "┃\u001b[1m \u001b[0m\u001b[1mLayer (type)                   \u001b[0m\u001b[1m \u001b[0m┃\u001b[1m \u001b[0m\u001b[1mOutput Shape          \u001b[0m\u001b[1m \u001b[0m┃\u001b[1m \u001b[0m\u001b[1m      Param #\u001b[0m\u001b[1m \u001b[0m┃\n",
       "┡━━━━━━━━━━━━━━━━━━━━━━━━━━━━━━━━━╇━━━━━━━━━━━━━━━━━━━━━━━━╇━━━━━━━━━━━━━━━┩\n",
       "│ conv2d (\u001b[38;5;33mConv2D\u001b[0m)                 │ (\u001b[38;5;45mNone\u001b[0m, \u001b[38;5;34m178\u001b[0m, \u001b[38;5;34m98\u001b[0m, \u001b[38;5;34m32\u001b[0m)    │           \u001b[38;5;34m320\u001b[0m │\n",
       "├─────────────────────────────────┼────────────────────────┼───────────────┤\n",
       "│ max_pooling2d (\u001b[38;5;33mMaxPooling2D\u001b[0m)    │ (\u001b[38;5;45mNone\u001b[0m, \u001b[38;5;34m89\u001b[0m, \u001b[38;5;34m49\u001b[0m, \u001b[38;5;34m32\u001b[0m)     │             \u001b[38;5;34m0\u001b[0m │\n",
       "├─────────────────────────────────┼────────────────────────┼───────────────┤\n",
       "│ conv2d_1 (\u001b[38;5;33mConv2D\u001b[0m)               │ (\u001b[38;5;45mNone\u001b[0m, \u001b[38;5;34m87\u001b[0m, \u001b[38;5;34m47\u001b[0m, \u001b[38;5;34m64\u001b[0m)     │        \u001b[38;5;34m18,496\u001b[0m │\n",
       "├─────────────────────────────────┼────────────────────────┼───────────────┤\n",
       "│ max_pooling2d_1 (\u001b[38;5;33mMaxPooling2D\u001b[0m)  │ (\u001b[38;5;45mNone\u001b[0m, \u001b[38;5;34m43\u001b[0m, \u001b[38;5;34m23\u001b[0m, \u001b[38;5;34m64\u001b[0m)     │             \u001b[38;5;34m0\u001b[0m │\n",
       "├─────────────────────────────────┼────────────────────────┼───────────────┤\n",
       "│ conv2d_2 (\u001b[38;5;33mConv2D\u001b[0m)               │ (\u001b[38;5;45mNone\u001b[0m, \u001b[38;5;34m41\u001b[0m, \u001b[38;5;34m21\u001b[0m, \u001b[38;5;34m128\u001b[0m)    │        \u001b[38;5;34m73,856\u001b[0m │\n",
       "├─────────────────────────────────┼────────────────────────┼───────────────┤\n",
       "│ max_pooling2d_2 (\u001b[38;5;33mMaxPooling2D\u001b[0m)  │ (\u001b[38;5;45mNone\u001b[0m, \u001b[38;5;34m20\u001b[0m, \u001b[38;5;34m10\u001b[0m, \u001b[38;5;34m128\u001b[0m)    │             \u001b[38;5;34m0\u001b[0m │\n",
       "├─────────────────────────────────┼────────────────────────┼───────────────┤\n",
       "│ conv2d_3 (\u001b[38;5;33mConv2D\u001b[0m)               │ (\u001b[38;5;45mNone\u001b[0m, \u001b[38;5;34m18\u001b[0m, \u001b[38;5;34m8\u001b[0m, \u001b[38;5;34m128\u001b[0m)     │       \u001b[38;5;34m147,584\u001b[0m │\n",
       "├─────────────────────────────────┼────────────────────────┼───────────────┤\n",
       "│ max_pooling2d_3 (\u001b[38;5;33mMaxPooling2D\u001b[0m)  │ (\u001b[38;5;45mNone\u001b[0m, \u001b[38;5;34m9\u001b[0m, \u001b[38;5;34m4\u001b[0m, \u001b[38;5;34m128\u001b[0m)      │             \u001b[38;5;34m0\u001b[0m │\n",
       "├─────────────────────────────────┼────────────────────────┼───────────────┤\n",
       "│ flatten (\u001b[38;5;33mFlatten\u001b[0m)               │ (\u001b[38;5;45mNone\u001b[0m, \u001b[38;5;34m4608\u001b[0m)           │             \u001b[38;5;34m0\u001b[0m │\n",
       "├─────────────────────────────────┼────────────────────────┼───────────────┤\n",
       "│ dense (\u001b[38;5;33mDense\u001b[0m)                   │ (\u001b[38;5;45mNone\u001b[0m, \u001b[38;5;34m512\u001b[0m)            │     \u001b[38;5;34m2,359,808\u001b[0m │\n",
       "├─────────────────────────────────┼────────────────────────┼───────────────┤\n",
       "│ dropout (\u001b[38;5;33mDropout\u001b[0m)               │ (\u001b[38;5;45mNone\u001b[0m, \u001b[38;5;34m512\u001b[0m)            │             \u001b[38;5;34m0\u001b[0m │\n",
       "├─────────────────────────────────┼────────────────────────┼───────────────┤\n",
       "│ dense_1 (\u001b[38;5;33mDense\u001b[0m)                 │ (\u001b[38;5;45mNone\u001b[0m, \u001b[38;5;34m53\u001b[0m)             │        \u001b[38;5;34m27,189\u001b[0m │\n",
       "└─────────────────────────────────┴────────────────────────┴───────────────┘\n"
      ]
     },
     "metadata": {},
     "output_type": "display_data"
    },
    {
     "data": {
      "text/html": [
       "<pre style=\"white-space:pre;overflow-x:auto;line-height:normal;font-family:Menlo,'DejaVu Sans Mono',consolas,'Courier New',monospace\"><span style=\"font-weight: bold\"> Total params: </span><span style=\"color: #00af00; text-decoration-color: #00af00\">7,881,761</span> (30.07 MB)\n",
       "</pre>\n"
      ],
      "text/plain": [
       "\u001b[1m Total params: \u001b[0m\u001b[38;5;34m7,881,761\u001b[0m (30.07 MB)\n"
      ]
     },
     "metadata": {},
     "output_type": "display_data"
    },
    {
     "data": {
      "text/html": [
       "<pre style=\"white-space:pre;overflow-x:auto;line-height:normal;font-family:Menlo,'DejaVu Sans Mono',consolas,'Courier New',monospace\"><span style=\"font-weight: bold\"> Trainable params: </span><span style=\"color: #00af00; text-decoration-color: #00af00\">2,627,253</span> (10.02 MB)\n",
       "</pre>\n"
      ],
      "text/plain": [
       "\u001b[1m Trainable params: \u001b[0m\u001b[38;5;34m2,627,253\u001b[0m (10.02 MB)\n"
      ]
     },
     "metadata": {},
     "output_type": "display_data"
    },
    {
     "data": {
      "text/html": [
       "<pre style=\"white-space:pre;overflow-x:auto;line-height:normal;font-family:Menlo,'DejaVu Sans Mono',consolas,'Courier New',monospace\"><span style=\"font-weight: bold\"> Non-trainable params: </span><span style=\"color: #00af00; text-decoration-color: #00af00\">0</span> (0.00 B)\n",
       "</pre>\n"
      ],
      "text/plain": [
       "\u001b[1m Non-trainable params: \u001b[0m\u001b[38;5;34m0\u001b[0m (0.00 B)\n"
      ]
     },
     "metadata": {},
     "output_type": "display_data"
    },
    {
     "data": {
      "text/html": [
       "<pre style=\"white-space:pre;overflow-x:auto;line-height:normal;font-family:Menlo,'DejaVu Sans Mono',consolas,'Courier New',monospace\"><span style=\"font-weight: bold\"> Optimizer params: </span><span style=\"color: #00af00; text-decoration-color: #00af00\">5,254,508</span> (20.04 MB)\n",
       "</pre>\n"
      ],
      "text/plain": [
       "\u001b[1m Optimizer params: \u001b[0m\u001b[38;5;34m5,254,508\u001b[0m (20.04 MB)\n"
      ]
     },
     "metadata": {},
     "output_type": "display_data"
    }
   ],
   "source": [
    "model_load.summary()"
   ]
  },
  {
   "cell_type": "code",
   "execution_count": null,
   "metadata": {},
   "outputs": [],
   "source": []
  }
 ],
 "metadata": {
  "kernelspec": {
   "display_name": "Python 3 (ipykernel)",
   "language": "python",
   "name": "python3"
  },
  "language_info": {
   "codemirror_mode": {
    "name": "ipython",
    "version": 3
   },
   "file_extension": ".py",
   "mimetype": "text/x-python",
   "name": "python",
   "nbconvert_exporter": "python",
   "pygments_lexer": "ipython3",
   "version": "3.11.7"
  }
 },
 "nbformat": 4,
 "nbformat_minor": 4
}
