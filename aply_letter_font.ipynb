{
 "cells": [
  {
   "cell_type": "code",
   "execution_count": 1,
   "metadata": {},
   "outputs": [
    {
     "name": "stdout",
     "output_type": "stream",
     "text": [
      "Requirement already satisfied: pillow in /home/picg/anaconda3/lib/python3.11/site-packages (10.2.0)\n",
      "\n",
      "\u001b[1m[\u001b[0m\u001b[34;49mnotice\u001b[0m\u001b[1;39;49m]\u001b[0m\u001b[39;49m A new release of pip is available: \u001b[0m\u001b[31;49m24.0\u001b[0m\u001b[39;49m -> \u001b[0m\u001b[32;49m24.2\u001b[0m\n",
      "\u001b[1m[\u001b[0m\u001b[34;49mnotice\u001b[0m\u001b[1;39;49m]\u001b[0m\u001b[39;49m To update, run: \u001b[0m\u001b[32;49mpip install --upgrade pip\u001b[0m\n",
      "Note: you may need to restart the kernel to use updated packages.\n"
     ]
    }
   ],
   "source": [
    "pip install pillow"
   ]
  },
  {
   "cell_type": "code",
   "execution_count": 2,
   "metadata": {},
   "outputs": [],
   "source": [
    "from PIL import Image, ImageDraw, ImageFont\n",
    "import os"
   ]
  },
  {
   "cell_type": "code",
   "execution_count": 3,
   "metadata": {},
   "outputs": [],
   "source": [
    "# Diretório atual:\n",
    "curr_dir = os.getcwd()\n",
    "# Diretório onde suas fontes .ttf estão localizadas\n",
    "font_dir = curr_dir + \"/fontes\"\n",
    "# Diretório onde você deseja salvar as imagens\n",
    "output_dir = curr_dir + \"/font_results\"\n",
    "# Certifique-se de que o diretório de saída existe\n",
    "os.makedirs(output_dir, exist_ok=True)"
   ]
  },
  {
   "cell_type": "code",
   "execution_count": 4,
   "metadata": {},
   "outputs": [],
   "source": [
    "# Função para ler o texto de um arquivo\n",
    "def read_text_from_file(file_path):\n",
    "    with open(file_path, 'r', encoding='utf-8') as file:\n",
    "        return file.read()"
   ]
  },
  {
   "cell_type": "code",
   "execution_count": 5,
   "metadata": {},
   "outputs": [],
   "source": [
    "# Função para dividir o texto em palavras\n",
    "def split_text(text):\n",
    "    return text.split()"
   ]
  },
  {
   "cell_type": "code",
   "execution_count": 6,
   "metadata": {},
   "outputs": [],
   "source": [
    "# Função para renderizar texto com diferentes fontes e salvar cada palavra como imagem\n",
    "def render_and_save_text(text, fonts, output_dir):\n",
    "    words = split_text(text)\n",
    "    font_size = 40\n",
    "    initial_width = 128\n",
    "    initial_height = 128\n",
    "    for font_path in fonts:\n",
    "        # Carregar a fonte\n",
    "        font_name = os.path.splitext(os.path.basename(font_path))[0]\n",
    "        font = ImageFont.truetype(font_path, font_size)\n",
    "\n",
    "        for word in words:\n",
    "            if word[1] != '_':\n",
    "                word_pic = word.replace('_','')\n",
    "                # Criar uma imagem em branco\n",
    "                image = Image.new(\"L\", (initial_width, initial_height), color=(255))\n",
    "                draw = ImageDraw.Draw(image)\n",
    "\n",
    "                # Medir o tamanho do texto\n",
    "                # Calcular o bounding box do texto\n",
    "                bbox = draw.textbbox((0, 0), word_pic, font=font, font_size=40)\n",
    "                ascent, descent = font.getmetrics()\n",
    "\n",
    "                # Obter as dimensões reais do texto\n",
    "                text_width = bbox[2] - bbox[0]\n",
    "                text_height = ascent + descent\n",
    "\n",
    "                # Criar uma imagem com o tamanho exato do texto\n",
    "                image = Image.new(\"L\", (text_width, text_height), color=(255))\n",
    "                draw = ImageDraw.Draw(image)\n",
    "                draw.text((0, 0), text=word_pic, font=font, fill=(0), font_size=40)\n",
    "\n",
    "                # Definir as coordenadas para manter o terço do meio\n",
    "                left = text_width // 6 # Divida a largura em três partes\n",
    "                right = (text_width // 6) * 5 # Divida a largura em três partes\n",
    "                if word[0] == \"_\":\n",
    "                    left = 0\n",
    "                if word[2] == \"_\":\n",
    "                    right = text_width\n",
    "\n",
    "                # Recortar a imagem, mantendo apenas o terço central\n",
    "                cropped_image = image.crop((left, bbox[1], right, bbox[3]))\n",
    "\n",
    "                # Salvar a imagem\n",
    "                os.makedirs(os.path.join(output_dir, \"normal\", word[1]), exist_ok=True)\n",
    "                output_path = os.path.join(output_dir, \"normal\",  word[1], f\"{word[1]}-{word}-{font_name}.png\")\n",
    "                image.save(output_path)\n",
    "                os.makedirs(os.path.join(output_dir, \"cropped\", word[1]), exist_ok=True)\n",
    "                cropped_path = os.path.join(output_dir, \"cropped\", word[1], f\"{word[1]}-{word}-{font_name}.png\")\n",
    "                cropped_image.save(cropped_path)\n",
    "            "
   ]
  },
  {
   "cell_type": "code",
   "execution_count": 12,
   "metadata": {},
   "outputs": [],
   "source": [
    "# Texto que você deseja processar\n",
    "text = read_text_from_file(\"basic.txt\")\n",
    "tcc_dir = (\"basic/\")\n",
    "# Carregar todas as fontes do diretório especificado\n",
    "fonts = [os.path.join(font_dir, font) for font in os.listdir(font_dir) if font.endswith(\".ttf\")]\n",
    "\n",
    "render_and_save_text(text, fonts, tcc_dir)"
   ]
  },
  {
   "cell_type": "code",
   "execution_count": 8,
   "metadata": {},
   "outputs": [],
   "source": [
    "def calc_text(text, fonts):\n",
    "    words = split_text(text)\n",
    "    font_size = 40\n",
    "    max_height = 0\n",
    "    max_width = 0\n",
    "    max_width_text = \"\"\n",
    "    max_height_text = \"\"\n",
    "\n",
    "    image = Image.new('L', (1, 1), color=(255))\n",
    "    draw = ImageDraw.Draw(image)\n",
    "    for word in words:\n",
    "        print(f\"Height: {max_height}px // Width:{max_width}px\")\n",
    "        print(f\"Height: {max_height_text}\")\n",
    "        print(f\"Width: {max_width_text}\")\n",
    "        for font_path in fonts:\n",
    "            word_pic = word.replace('_',' ')\n",
    "            # Carregar a fonte\n",
    "            font = ImageFont.truetype(font_path, font_size)\n",
    "            # Medir o tamanho do texto\n",
    "            ascent, descent = font.getmetrics()\n",
    "            text_height = ascent + descent\n",
    "            text_width = draw.textlength(word_pic, font=font)\n",
    "\n",
    "            if max_height < text_height:\n",
    "                max_height_text = word\n",
    "                max_height = text_height\n",
    "            if max_width < text_width: \n",
    "                max_width_text = word\n",
    "                max_width = text_width"
   ]
  },
  {
   "cell_type": "code",
   "execution_count": null,
   "metadata": {},
   "outputs": [],
   "source": [
    "# Texto que você deseja processar\n",
    "text = read_text_from_file(\"algo_text.txt\")\n",
    "\n",
    "# Carregar todas as fontes do diretório especificado\n",
    "fonts = [os.path.join(font_dir, font) for font in os.listdir(font_dir) if font.endswith(\".ttf\")]\n",
    "\n",
    "calc_text(text, fonts)\n",
    "# Height: 101px // Width:174.0px\n",
    "# Height: AAA\n",
    "# Width: MAM"
   ]
  }
 ],
 "metadata": {
  "kernelspec": {
   "display_name": "Python 3 (ipykernel)",
   "language": "python",
   "name": "python3"
  },
  "language_info": {
   "codemirror_mode": {
    "name": "ipython",
    "version": 3
   },
   "file_extension": ".py",
   "mimetype": "text/x-python",
   "name": "python",
   "nbconvert_exporter": "python",
   "pygments_lexer": "ipython3",
   "version": "3.11.7"
  }
 },
 "nbformat": 4,
 "nbformat_minor": 4
}
